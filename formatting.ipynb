{
 "cells": [
  {
   "cell_type": "code",
   "execution_count": 127,
   "metadata": {},
   "outputs": [],
   "source": [
    "from sklearn.model_selection import train_test_split\n",
    "import pandas as pd"
   ]
  },
  {
   "cell_type": "code",
   "execution_count": 128,
   "metadata": {},
   "outputs": [],
   "source": [
    "overallDataset = pd.read_csv(\"data/MovieGenre.csv\", sep=\",\", encoding = \"ISO-8859-1\")\n",
    "overallDataset = overallDataset[[\"imdbId\", \"Genre\"]]\n",
    "# We need to drop NaNs\n",
    "overallDataset = overallDataset.dropna()"
   ]
  },
  {
   "cell_type": "code",
   "execution_count": 129,
   "metadata": {},
   "outputs": [],
   "source": [
    "def genre_discover(genre):\n",
    "    category = None\n",
    "    if \"|\" in genre:\n",
    "        genre_split = genre.split(\"|\")\n",
    "        if (genre_split[0] == \"Drama\") or (genre_split[0] == \"Comedy\") or (genre_split[0] == \"Action\"):\n",
    "            if (genre_split[1] == \"Drama\"):\n",
    "                if len(genre_split) == 3:\n",
    "                    category = genre_split[2]\n",
    "                else:\n",
    "                    category = genre_split[1]\n",
    "            else:\n",
    "                category = genre_split[1]\n",
    "        else:\n",
    "            category = genre_split[0]\n",
    "    else:\n",
    "        category = genre\n",
    "    return category"
   ]
  },
  {
   "cell_type": "code",
   "execution_count": 130,
   "metadata": {},
   "outputs": [
    {
     "name": "stdout",
     "output_type": "stream",
     "text": [
      "Number of Records originally: 39963\n",
      "Number of unique values in Genre_1 originally: 26\n"
     ]
    }
   ],
   "source": [
    "overallDataset['Genre_1'] = overallDataset.apply(lambda x: genre_discover(x['Genre']), axis=1)\n",
    "print(\"Number of Records originally: \" + str(len(overallDataset[\"Genre_1\"])))\n",
    "print(\"Number of unique values in Genre_1 originally: \" + str(len(overallDataset[\"Genre_1\"].unique())))\n",
    "#overallDataset[\"Genre_1\"].value_counts()"
   ]
  },
  {
   "cell_type": "code",
   "execution_count": 131,
   "metadata": {},
   "outputs": [],
   "source": [
    "genre_counts = overallDataset[\"Genre_1\"].value_counts()\n",
    "filt_genre_counts = genre_counts[genre_counts >= 1100].index\n",
    "fixedOverallDataset = overallDataset[overallDataset['Genre_1'].isin(filt_genre_counts)]\n",
    "\n",
    "new_balanced_df = pd.DataFrame(columns=[\"imdbId\", \"Genre\", \"Genre_1\"])\n",
    "for genre in filt_genre_counts:\n",
    "    cut_temp_df = fixedOverallDataset[fixedOverallDataset[\"Genre_1\"] == genre].iloc[:1200]\n",
    "    new_balanced_df = pd.concat([new_balanced_df, cut_temp_df])\n",
    "    \n",
    "genre_category_numbers = list(filt_genre_counts)\n",
    "def label_id_add(genre):\n",
    "    return int(genre_category_numbers.index(genre))\n",
    "\n",
    "    \n",
    "new_balanced_df = new_balanced_df.drop(['Genre'], axis=1)\n",
    "new_balanced_df = new_balanced_df.rename(columns={\"Genre_1\": \"Genre\"})\n",
    "new_balanced_df['Label'] = new_balanced_df.apply(lambda x: label_id_add(x['Genre']), axis=1)"
   ]
  },
  {
   "cell_type": "code",
   "execution_count": 132,
   "metadata": {},
   "outputs": [
    {
     "data": {
      "text/plain": [
       "Drama          1200\n",
       "Romance        1200\n",
       "Crime          1200\n",
       "Documentary    1200\n",
       "Comedy         1200\n",
       "Horror         1200\n",
       "Adventure      1200\n",
       "Animation      1200\n",
       "Thriller       1200\n",
       "Biography      1200\n",
       "Name: Genre, dtype: int64"
      ]
     },
     "execution_count": 132,
     "metadata": {},
     "output_type": "execute_result"
    }
   ],
   "source": [
    "new_balanced_df[\"Genre\"].value_counts()"
   ]
  },
  {
   "cell_type": "code",
   "execution_count": 133,
   "metadata": {},
   "outputs": [
    {
     "name": "stdout",
     "output_type": "stream",
     "text": [
      "The new number of records was 12000.\n",
      "The train size was 10800 and the test size was 1200\n",
      "Number of unique values Genres: 10\n"
     ]
    }
   ],
   "source": [
    "original_size = len(new_balanced_df)\n",
    "train, test = train_test_split(new_balanced_df, test_size=0.1)\n",
    "train_size = len(train)\n",
    "test_size = len(test)\n",
    "\n",
    "print(\"The new number of records was \" + str(original_size) + \".\")\n",
    "print(\"The train size was \" + str(train_size) + \" and the test size was \" + str(test_size))\n",
    "print(\"Number of unique values Genres: \" + str(len(new_balanced_df[\"Genre\"].unique())))\n",
    "assert original_size == (train_size + test_size)"
   ]
  },
  {
   "cell_type": "code",
   "execution_count": 134,
   "metadata": {},
   "outputs": [],
   "source": [
    "test.to_csv(\"test_labels.csv\", index=False)\n",
    "train.to_csv(\"train_labels.csv\", index=False)"
   ]
  }
 ],
 "metadata": {
  "kernelspec": {
   "display_name": "Python 3 (ipykernel)",
   "language": "python",
   "name": "python3"
  },
  "language_info": {
   "codemirror_mode": {
    "name": "ipython",
    "version": 3
   },
   "file_extension": ".py",
   "mimetype": "text/x-python",
   "name": "python",
   "nbconvert_exporter": "python",
   "pygments_lexer": "ipython3",
   "version": "3.10.4"
  }
 },
 "nbformat": 4,
 "nbformat_minor": 2
}
