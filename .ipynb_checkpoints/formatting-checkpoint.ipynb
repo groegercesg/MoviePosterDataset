{
 "cells": [
  {
   "cell_type": "code",
   "execution_count": 43,
   "metadata": {},
   "outputs": [],
   "source": [
    "from sklearn.model_selection import train_test_split\n",
    "import pandas as pd"
   ]
  },
  {
   "cell_type": "code",
   "execution_count": 44,
   "metadata": {},
   "outputs": [],
   "source": [
    "overallDataset = pd.read_csv(\"data/MovieGenre.csv\", sep=\",\", encoding = \"ISO-8859-1\")\n",
    "overallDataset = overallDataset[[\"imdbId\", \"Genre\"]]\n",
    "# We need to drop NaNs\n",
    "overallDataset = overallDataset.dropna()\n",
    "original_size = len(overallDataset)"
   ]
  },
  {
   "cell_type": "code",
   "execution_count": 45,
   "metadata": {},
   "outputs": [
    {
     "name": "stdout",
     "output_type": "stream",
     "text": [
      "The original number of records was 39963.\n",
      "The train size was 35966 and the test size was 3997\n"
     ]
    }
   ],
   "source": [
    "train, test = train_test_split(overallDataset, test_size=0.1)\n",
    "train_size = len(train)\n",
    "test_size = len(test)\n",
    "\n",
    "print(\"The original number of records was \" + str(original_size) + \".\")\n",
    "print(\"The train size was \" + str(train_size) + \" and the test size was \" + str(test_size))\n",
    "assert original_size == (train_size + test_size)"
   ]
  },
  {
   "cell_type": "code",
   "execution_count": 46,
   "metadata": {},
   "outputs": [],
   "source": [
    "test.to_csv(\"test_labels.csv\", index=False)\n",
    "train.to_csv(\"train_labels.csv\", index=False)"
   ]
  },
  {
   "cell_type": "code",
   "execution_count": 47,
   "metadata": {},
   "outputs": [],
   "source": [
    "def complex_function(genre):\n",
    "    category = None\n",
    "    if \"|\" in genre:\n",
    "        genre_split = genre.split(\"|\")\n",
    "        if (genre_split[0] == \"Drama\") or (genre_split[0] == \"Comedy\") or (genre_split[0] == \"Action\"):\n",
    "            if (genre_split[1] == \"Drama\"):\n",
    "                if len(genre_split) == 3:\n",
    "                    category = genre_split[2]\n",
    "                else:\n",
    "                    category = genre_split[1]\n",
    "            else:\n",
    "                category = genre_split[1]\n",
    "        else:\n",
    "            category = genre_split[0]\n",
    "    else:\n",
    "        category = genre\n",
    "    return category"
   ]
  },
  {
   "cell_type": "code",
   "execution_count": 48,
   "metadata": {},
   "outputs": [
    {
     "name": "stdout",
     "output_type": "stream",
     "text": [
      "Number of Records: 39963\n",
      "Number of unique values in Genre_1: 26\n"
     ]
    },
    {
     "data": {
      "text/plain": [
       "Drama          5970\n",
       "Romance        4401\n",
       "Crime          4396\n",
       "Documentary    3860\n",
       "Comedy         3294\n",
       "Horror         3035\n",
       "Adventure      2964\n",
       "Animation      1670\n",
       "Thriller       1416\n",
       "Biography      1287\n",
       "Fantasy        1097\n",
       "Family         1085\n",
       "Mystery         889\n",
       "Sci-Fi          661\n",
       "History         605\n",
       "Musical         602\n",
       "Music           593\n",
       "War             572\n",
       "Short           507\n",
       "Western         493\n",
       "Sport           270\n",
       "Action          176\n",
       "Film-Noir       102\n",
       "Adult            11\n",
       "Talk-Show         6\n",
       "Game-Show         1\n",
       "Name: Genre_1, dtype: int64"
      ]
     },
     "execution_count": 48,
     "metadata": {},
     "output_type": "execute_result"
    }
   ],
   "source": [
    "overallDataset['Genre_1'] = overallDataset.apply(lambda x: complex_function(x['Genre']), axis=1)\n",
    "print(\"Number of Records: \" + str(len(overallDataset[\"Genre_1\"])))\n",
    "print(\"Number of unique values in Genre_1: \" + str(len(overallDataset[\"Genre_1\"].unique())))\n",
    "overallDataset[\"Genre_1\"].value_counts()"
   ]
  }
 ],
 "metadata": {
  "kernelspec": {
   "display_name": "Python 3 (ipykernel)",
   "language": "python",
   "name": "python3"
  },
  "language_info": {
   "codemirror_mode": {
    "name": "ipython",
    "version": 3
   },
   "file_extension": ".py",
   "mimetype": "text/x-python",
   "name": "python",
   "nbconvert_exporter": "python",
   "pygments_lexer": "ipython3",
   "version": "3.10.4"
  }
 },
 "nbformat": 4,
 "nbformat_minor": 2
}
