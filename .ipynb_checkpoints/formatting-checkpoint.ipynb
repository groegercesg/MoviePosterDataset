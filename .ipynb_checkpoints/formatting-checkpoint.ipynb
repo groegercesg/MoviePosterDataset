{
 "cells": [
  {
   "cell_type": "code",
   "execution_count": 27,
   "metadata": {},
   "outputs": [],
   "source": [
    "import pandas as pd"
   ]
  },
  {
   "cell_type": "code",
   "execution_count": 28,
   "metadata": {},
   "outputs": [],
   "source": [
    "overallDataset = pd.read_csv(\"data/MovieGenre.csv\", sep=\",\", encoding = \"ISO-8859-1\")\n",
    "overallDataset = overallDataset[[\"imdbId\", \"Genre\"]]\n",
    "original_size = len(overallDataset)"
   ]
  },
  {
   "cell_type": "code",
   "execution_count": 29,
   "metadata": {},
   "outputs": [
    {
     "name": "stdout",
     "output_type": "stream",
     "text": [
      "The original number of records was 40108.\n",
      "The train size was 36097 and the test size was 4011\n"
     ]
    }
   ],
   "source": [
    "from sklearn.model_selection import train_test_split\n",
    "\n",
    "train, test = train_test_split(overallDataset, test_size=0.1)\n",
    "train_size = len(train)\n",
    "test_size = len(test)\n",
    "\n",
    "print(\"The original number of records was \" + str(original_size) + \".\")\n",
    "print(\"The train size was \" + str(train_size) + \" and the test size was \" + str(test_size))\n",
    "assert original_size == (train_size + test_size)"
   ]
  },
  {
   "cell_type": "code",
   "execution_count": 30,
   "metadata": {},
   "outputs": [],
   "source": [
    "test.to_csv(\"test_labels.csv\", index=False)\n",
    "train.to_csv(\"train_labels.csv\", index=False)"
   ]
  }
 ],
 "metadata": {
  "kernelspec": {
   "display_name": "Python 3 (ipykernel)",
   "language": "python",
   "name": "python3"
  },
  "language_info": {
   "codemirror_mode": {
    "name": "ipython",
    "version": 3
   },
   "file_extension": ".py",
   "mimetype": "text/x-python",
   "name": "python",
   "nbconvert_exporter": "python",
   "pygments_lexer": "ipython3",
   "version": "3.10.4"
  }
 },
 "nbformat": 4,
 "nbformat_minor": 2
}
